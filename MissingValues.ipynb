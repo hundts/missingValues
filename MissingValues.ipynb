{
 "cells": [
  {
   "cell_type": "markdown",
   "metadata": {},
   "source": [
    "Einlesen der CSV-Datei\n",
    "Es wird ein Datensatz von Kaggle verwendet, bei dem einzelne Werte gelöscht wurden."
   ]
  },
  {
   "cell_type": "code",
   "execution_count": 50,
   "metadata": {},
   "outputs": [
    {
     "name": "stdout",
     "output_type": "stream",
     "text": [
      "(1660, 13)\n"
     ]
    }
   ],
   "source": [
    "import pandas \n",
    "df = pandas.read_csv(\"~\\GoldpreisBearbeitet.csv\", sep=\";\")\n",
    "print(df.shape)\n",
    "#print(df)\n",
    "\n"
   ]
  },
  {
   "cell_type": "markdown",
   "metadata": {},
   "source": [
    "Listenweises Löschen\n",
    "Es werden alle Rows entfernt, bei denen mindestens ein Wert fehlt.\n",
    "Dieses Vorgehen ist vorteilhaft, wenn nur wenige Werte fehlen. Allerdings kann diese Methode zu verzerrten Parametern führen, gerade wenn Werte nicht rein zufallsbasiert fehlen."
   ]
  },
  {
   "cell_type": "code",
   "execution_count": 42,
   "metadata": {},
   "outputs": [
    {
     "name": "stdout",
     "output_type": "stream",
     "text": [
      "(1580, 13)\n"
     ]
    }
   ],
   "source": [
    "deleteListwise = df.dropna()\n",
    "print(deleteListwise.shape)"
   ]
  },
  {
   "cell_type": "markdown",
   "metadata": {},
   "source": [
    "Paarweises Löschen\n",
    "Es werden Columns gelöscht, in denen Werte fehlen.\n",
    "Dieses Vorgehen bietet sich an, wenn in einem Datensatz viele Werte einer bestimmten Column fehlen und dieser Zustand zufallsbasiert ist. Andere Werte des Datensatzes bleiben hier erhalten. Allerdings sollten Columns nur gelöscht werden, wenn diese für die Fragestellung nicht relevant sind. Oft ist es am Besten, Werte nicht zu löschen, sondern Methoden zu wählen, bei denen Werte angepasst werden."
   ]
  },
  {
   "cell_type": "code",
   "execution_count": 46,
   "metadata": {},
   "outputs": [],
   "source": [
    "# Anzeigen der Column-names\n",
    "df_top = df.head()\n",
    "#print(df_top)\n",
    "\n"
   ]
  },
  {
   "cell_type": "code",
   "execution_count": 51,
   "metadata": {},
   "outputs": [],
   "source": [
    "# Löschen des Column No. of Shares\n",
    "deleteColumn = df.drop(columns=[\"No. of Shares\"])\n",
    "#print(deleteColumn)"
   ]
  },
  {
   "cell_type": "code",
   "execution_count": null,
   "metadata": {},
   "outputs": [],
   "source": [
    "Zeitreihenspezifische Methoden"
   ]
  },
  {
   "cell_type": "markdown",
   "metadata": {},
   "source": [
    "LOCF und NOCB\n",
    "Längsschnittdaten verfolgen dieselbe Probe zu verschiedenen Zeitpunkten. Diese Methoden können zu Verzerrungen bei der Analyse führen und sind nicht geeignet, wenn Daten einen sichtbaren Trend aufweisen.\n",
    "Die Methode ist gut geeignet zum Auswerten von Längsschnittdaten mit wiederholten Messungen, allerdings wird ein schlechtes Ergebnis erzielt, wenn die Daten einen sichtbaren Trend aufweisen."
   ]
  },
  {
   "cell_type": "code",
   "execution_count": 57,
   "metadata": {},
   "outputs": [],
   "source": [
    "dfLOCF = df.fillna(method=\"ffill\")\n",
    "#print(dfLOCF)\n",
    "\n",
    "dfNOCB = df.fillna(method=\"bfill\")\n",
    "#print(dfNOCB)"
   ]
  },
  {
   "cell_type": "markdown",
   "metadata": {},
   "source": [
    "Lineare Interpolation\n",
    "Eignet sich für Zeitreihen mit einigen Trends, aber nicht, wenn die Daten Saison-abhängig sind."
   ]
  },
  {
   "cell_type": "code",
   "execution_count": 52,
   "metadata": {},
   "outputs": [],
   "source": [
    "dfInterpolation = df.interpolate()\n",
    "#print(dfInterpolation)\n"
   ]
  },
  {
   "cell_type": "code",
   "execution_count": null,
   "metadata": {},
   "outputs": [],
   "source": []
  }
 ],
 "metadata": {
  "kernelspec": {
   "display_name": "Python 3",
   "language": "python",
   "name": "python3"
  },
  "language_info": {
   "codemirror_mode": {
    "name": "ipython",
    "version": 3
   },
   "file_extension": ".py",
   "mimetype": "text/x-python",
   "name": "python",
   "nbconvert_exporter": "python",
   "pygments_lexer": "ipython3",
   "version": "3.8.5"
  }
 },
 "nbformat": 4,
 "nbformat_minor": 4
}
